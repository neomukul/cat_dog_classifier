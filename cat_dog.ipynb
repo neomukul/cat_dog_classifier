{
  "nbformat": 4,
  "nbformat_minor": 0,
  "metadata": {
    "colab": {
      "name": "cat_dog.ipynb",
      "provenance": []
    },
    "kernelspec": {
      "name": "python3",
      "display_name": "Python 3"
    },
    "accelerator": "GPU"
  },
  "cells": [
    {
      "cell_type": "code",
      "metadata": {
        "id": "AETlDBile4Uv",
        "colab_type": "code",
        "colab": {
          "base_uri": "https://localhost:8080/",
          "height": 34
        },
        "outputId": "bc7aed16-db80-40ad-80d9-d35990e186a1"
      },
      "source": [
        "# mounting the drive\n",
        "from google.colab import drive\n",
        "drive.mount('/content/gdrive')"
      ],
      "execution_count": 32,
      "outputs": [
        {
          "output_type": "stream",
          "text": [
            "Drive already mounted at /content/gdrive; to attempt to forcibly remount, call drive.mount(\"/content/gdrive\", force_remount=True).\n"
          ],
          "name": "stdout"
        }
      ]
    },
    {
      "cell_type": "code",
      "metadata": {
        "id": "2eG0xvh3fcdg",
        "colab_type": "code",
        "colab": {}
      },
      "source": [
        "%reload_ext autoreload\n",
        "%autoreload 2\n",
        "%matplotlib inline"
      ],
      "execution_count": 33,
      "outputs": []
    },
    {
      "cell_type": "code",
      "metadata": {
        "id": "SIBG7Sb_E-5N",
        "colab_type": "code",
        "colab": {}
      },
      "source": [
        "# import liberary to create input data\n",
        "import os\n",
        "import numpy as np\n",
        "import matplotlib.pyplot as plt\n",
        "import cv2\n",
        "import random\n",
        "from tqdm import tqdm"
      ],
      "execution_count": 34,
      "outputs": []
    },
    {
      "cell_type": "code",
      "metadata": {
        "id": "5pte9R8SrSHd",
        "colab_type": "code",
        "colab": {
          "base_uri": "https://localhost:8080/",
          "height": 34
        },
        "outputId": "d3745097-b1e5-4569-902c-101d684d2805"
      },
      "source": [
        "# called to the data directory\n",
        "cd /content/gdrive/My Drive/classifier"
      ],
      "execution_count": 35,
      "outputs": [
        {
          "output_type": "stream",
          "text": [
            "/content/gdrive/My Drive/classifier\n"
          ],
          "name": "stdout"
        }
      ]
    },
    {
      "cell_type": "code",
      "metadata": {
        "id": "nMLzu6OBfcsk",
        "colab_type": "code",
        "colab": {}
      },
      "source": [
        "# assign object to path for join and iterate files\n",
        "train_path =  'train'\n",
        "img_size = 80\n"
      ],
      "execution_count": 36,
      "outputs": []
    },
    {
      "cell_type": "code",
      "metadata": {
        "id": "ESh6gp0Hd19J",
        "colab_type": "code",
        "colab": {
          "base_uri": "https://localhost:8080/",
          "height": 34
        },
        "outputId": "83bb8e46-7ae2-44f0-d6e2-ca2a263153c0"
      },
      "source": [
        "# in the below code block we are reading, resizing and converting the image to the grayscale after that we are assigning \n",
        "# binary class to the dog(1) and cat(0) to the files.\n",
        "  \n",
        "training_data = []\n",
        "\n",
        "def make_training_data():\n",
        "  for i in tqdm(os.listdir(train_path)):\n",
        "    img_arr = cv2.resize(cv2.imread(os.path.join(train_path,i),cv2.IMREAD_GRAYSCALE),(img_size,img_size))\n",
        "    if (i.split('.')[0] == 'dog'):\n",
        "      training_data.append([img_arr, 1])\n",
        "    elif (i.split('.')[0] == 'cat'):  \n",
        "      training_data.append([img_arr, 0])\n",
        "    #plt.imshow(img_arr, cmap='gray')  \n",
        "    #plt.show()\n",
        "    #break\n",
        "  \n",
        "make_training_data()\n"
      ],
      "execution_count": 63,
      "outputs": [
        {
          "output_type": "stream",
          "text": [
            "100%|██████████| 25021/25021 [01:13<00:00, 341.94it/s]\n"
          ],
          "name": "stderr"
        }
      ]
    },
    {
      "cell_type": "code",
      "metadata": {
        "id": "baQKNhNCD2B0",
        "colab_type": "code",
        "colab": {}
      },
      "source": [
        "# after converting and concatinating the image and respective label to machine understanding format we shuffle them so correct label\n",
        "# shuffle with corect image  \n",
        "random.shuffle(training_data)"
      ],
      "execution_count": 64,
      "outputs": []
    },
    {
      "cell_type": "code",
      "metadata": {
        "id": "6Mxo_YIuEVcY",
        "colab_type": "code",
        "colab": {}
      },
      "source": [
        "# now we separate the image and label for further processing \n",
        "X = []\n",
        "y = []\n",
        "def creating_inputs():\n",
        "  for i,j in training_data:\n",
        "    X.append(i)\n",
        "    y.append(j)\n",
        "\n",
        "creating_inputs()\n"
      ],
      "execution_count": 65,
      "outputs": []
    },
    {
      "cell_type": "code",
      "metadata": {
        "id": "-Bs6D3HqF1t0",
        "colab_type": "code",
        "colab": {
          "base_uri": "https://localhost:8080/",
          "height": 34
        },
        "outputId": "bf25365e-a4d1-4569-ed53-be9d19528716"
      },
      "source": [
        "len(X)\n",
        "len(y)"
      ],
      "execution_count": 66,
      "outputs": [
        {
          "output_type": "execute_result",
          "data": {
            "text/plain": [
              "25021"
            ]
          },
          "metadata": {
            "tags": []
          },
          "execution_count": 66
        }
      ]
    },
    {
      "cell_type": "code",
      "metadata": {
        "id": "sdeCu2mpEVjF",
        "colab_type": "code",
        "colab": {}
      },
      "source": [
        "# conversion of image to np array to feed into the model and reshaping it to(25021,80,80,1)\n",
        "# 25021 all image file# 80- image size\n",
        "# 1- color channel gray\n",
        "X = np.array(X/255).reshape(-1, img_size, img_size, 1)\n",
        "y = np.array(y)\n"
      ],
      "execution_count": 70,
      "outputs": []
    },
    {
      "cell_type": "code",
      "metadata": {
        "id": "ph66nKP6IU7S",
        "colab_type": "code",
        "colab": {
          "base_uri": "https://localhost:8080/",
          "height": 850
        },
        "outputId": "68bd8633-521c-458d-d5a3-0806dfd03dea"
      },
      "source": [
        "X[0]"
      ],
      "execution_count": 71,
      "outputs": [
        {
          "output_type": "execute_result",
          "data": {
            "text/plain": [
              "array([[[0.11764706],\n",
              "        [0.16078431],\n",
              "        [0.22352941],\n",
              "        ...,\n",
              "        [0.42352941],\n",
              "        [0.42745098],\n",
              "        [0.42352941]],\n",
              "\n",
              "       [[0.04705882],\n",
              "        [0.0745098 ],\n",
              "        [0.09411765],\n",
              "        ...,\n",
              "        [0.41960784],\n",
              "        [0.43529412],\n",
              "        [0.43137255]],\n",
              "\n",
              "       [[0.00392157],\n",
              "        [0.02745098],\n",
              "        [0.02352941],\n",
              "        ...,\n",
              "        [0.43137255],\n",
              "        [0.43921569],\n",
              "        [0.43529412]],\n",
              "\n",
              "       ...,\n",
              "\n",
              "       [[0.56078431],\n",
              "        [0.58431373],\n",
              "        [0.58039216],\n",
              "        ...,\n",
              "        [0.38823529],\n",
              "        [0.3372549 ],\n",
              "        [0.3372549 ]],\n",
              "\n",
              "       [[0.59215686],\n",
              "        [0.6       ],\n",
              "        [0.58431373],\n",
              "        ...,\n",
              "        [0.34509804],\n",
              "        [0.36862745],\n",
              "        [0.3372549 ]],\n",
              "\n",
              "       [[0.59607843],\n",
              "        [0.59215686],\n",
              "        [0.59607843],\n",
              "        ...,\n",
              "        [0.34901961],\n",
              "        [0.36862745],\n",
              "        [0.3254902 ]]])"
            ]
          },
          "metadata": {
            "tags": []
          },
          "execution_count": 71
        }
      ]
    },
    {
      "cell_type": "code",
      "metadata": {
        "id": "lbpd7vQ8EV6g",
        "colab_type": "code",
        "colab": {}
      },
      "source": [
        "# imports for the keras model\n",
        "import tensorflow as tf\n",
        "from tensorflow.keras.preprocessing.image import ImageDataGenerator\n",
        "from tensorflow.keras.models import Sequential\n",
        "from tensorflow.keras.layers import Dense, Dropout, Activation, Flatten, Conv2D, MaxPooling2D\n"
      ],
      "execution_count": 72,
      "outputs": []
    },
    {
      "cell_type": "code",
      "metadata": {
        "id": "_9bxR5zpEV4w",
        "colab_type": "code",
        "colab": {}
      },
      "source": [
        "# model's forward path creation\n",
        "model = Sequential()\n",
        "model.add(Conv2D(64, (3,3), activation='relu'))\n",
        "model.add(MaxPooling2D(pool_size=(2,2)))\n",
        "\n",
        "\n",
        "model.add(Conv2D(64, (3,3), activation='relu'))\n",
        "model.add(MaxPooling2D(pool_size=(2,2)))\n",
        "\n",
        "model.add(Conv2D(64, (3,3), activation='relu'))\n",
        "model.add(MaxPooling2D(pool_size=(2,2)))\n",
        "\n",
        "model.add(Flatten())\n",
        "#model.add(Dense(128, input_shape = X.shape[1:], activation='relu'))\n",
        "model.add(Dense(64, activation='relu'))\n",
        "model.add(Dense(1, activation='sigmoid'))\n",
        "\n"
      ],
      "execution_count": 73,
      "outputs": []
    },
    {
      "cell_type": "code",
      "metadata": {
        "id": "Wd3M6o3-EV2k",
        "colab_type": "code",
        "colab": {
          "base_uri": "https://localhost:8080/",
          "height": 357
        },
        "outputId": "011c3b22-3cc9-4a17-a635-524f9b13edeb"
      },
      "source": [
        "# fitting the data and choosing the hyperparameter \n",
        "model.compile(loss='binary_crossentropy',\n",
        "              optimizer='adam',\n",
        "              metrics=['accuracy'])\n",
        "history = model.fit(X, y, batch_size=64, epochs=10, validation_split=0.1)\n",
        "\n",
        "# with the above parameter accuracy = 91.1, val_acc = 85.78\n"
      ],
      "execution_count": 74,
      "outputs": [
        {
          "output_type": "stream",
          "text": [
            "Epoch 1/10\n",
            "352/352 [==============================] - 7s 20ms/step - loss: 0.6324 - accuracy: 0.6255 - val_loss: 0.5681 - val_accuracy: 0.7171\n",
            "Epoch 2/10\n",
            "352/352 [==============================] - 7s 19ms/step - loss: 0.5134 - accuracy: 0.7494 - val_loss: 0.4691 - val_accuracy: 0.7835\n",
            "Epoch 3/10\n",
            "352/352 [==============================] - 7s 20ms/step - loss: 0.4490 - accuracy: 0.7927 - val_loss: 0.4785 - val_accuracy: 0.7715\n",
            "Epoch 4/10\n",
            "352/352 [==============================] - 7s 20ms/step - loss: 0.4057 - accuracy: 0.8122 - val_loss: 0.3885 - val_accuracy: 0.8258\n",
            "Epoch 5/10\n",
            "352/352 [==============================] - 7s 20ms/step - loss: 0.3689 - accuracy: 0.8371 - val_loss: 0.3679 - val_accuracy: 0.8330\n",
            "Epoch 6/10\n",
            "352/352 [==============================] - 7s 19ms/step - loss: 0.3332 - accuracy: 0.8546 - val_loss: 0.3379 - val_accuracy: 0.8446\n",
            "Epoch 7/10\n",
            "352/352 [==============================] - 7s 19ms/step - loss: 0.2996 - accuracy: 0.8713 - val_loss: 0.3561 - val_accuracy: 0.8478\n",
            "Epoch 8/10\n",
            "352/352 [==============================] - 7s 19ms/step - loss: 0.2755 - accuracy: 0.8821 - val_loss: 0.3308 - val_accuracy: 0.8510\n",
            "Epoch 9/10\n",
            "352/352 [==============================] - 7s 19ms/step - loss: 0.2423 - accuracy: 0.8994 - val_loss: 0.3477 - val_accuracy: 0.8498\n",
            "Epoch 10/10\n",
            "352/352 [==============================] - 7s 19ms/step - loss: 0.2190 - accuracy: 0.9111 - val_loss: 0.3484 - val_accuracy: 0.8578\n"
          ],
          "name": "stdout"
        }
      ]
    },
    {
      "cell_type": "code",
      "metadata": {
        "id": "clq5vr6oEV0Z",
        "colab_type": "code",
        "colab": {
          "base_uri": "https://localhost:8080/",
          "height": 312
        },
        "outputId": "0c2b000c-1246-46ab-83be-8e784a529d25"
      },
      "source": [
        "# Model accuracy plot\n",
        "plt.plot(history.history['accuracy'])  \n",
        "plt.plot(history.history['val_accuracy'])  \n",
        "plt.title('Model performance')\n",
        "plt.xlabel('epoch')\n",
        "plt.ylabel('accuracy')\n",
        "plt.legend(['train','test'])"
      ],
      "execution_count": 75,
      "outputs": [
        {
          "output_type": "execute_result",
          "data": {
            "text/plain": [
              "<matplotlib.legend.Legend at 0x7fb3ec1c2320>"
            ]
          },
          "metadata": {
            "tags": []
          },
          "execution_count": 75
        },
        {
          "output_type": "display_data",
          "data": {
            "image/png": "[encoded data removed]",
            "text/plain": [
              "<Figure size 432x288 with 1 Axes>"
            ]
          },
          "metadata": {
            "tags": [],
            "needs_background": "light"
          }
        }
      ]
    },
    {
      "cell_type": "code",
      "metadata": {
        "id": "M8-Dc321EVx3",
        "colab_type": "code",
        "colab": {
          "base_uri": "https://localhost:8080/",
          "height": 312
        },
        "outputId": "5a3c5a6b-b9bd-42b8-abe0-2fe9525167d5"
      },
      "source": [
        "# model loss plot\n",
        "plt.plot(history.history['loss'])\n",
        "plt.plot(history.history['val_loss'])\n",
        "plt.title('Model loss')\n",
        "plt.xlabel('epoch')\n",
        "plt.ylabel('loss')\n",
        "plt.legend(['train','test'])"
      ],
      "execution_count": 76,
      "outputs": [
        {
          "output_type": "execute_result",
          "data": {
            "text/plain": [
              "<matplotlib.legend.Legend at 0x7fb3eb7387f0>"
            ]
          },
          "metadata": {
            "tags": []
          },
          "execution_count": 76
        },
        {
          "output_type": "display_data",
          "data": {
            "image/png": "[encoded data removed]",
            "text/plain": [
              "<Figure size 432x288 with 1 Axes>"
            ]
          },
          "metadata": {
            "tags": [],
            "needs_background": "light"
          }
        }
      ]
    },
    {
      "cell_type": "code",
      "metadata": {
        "id": "KDjiEwhTEVsV",
        "colab_type": "code",
        "colab": {}
      },
      "source": [
        "\n",
        "\n"
      ],
      "execution_count": null,
      "outputs": []
    },
    {
      "cell_type": "code",
      "metadata": {
        "id": "c3fqD-zlEVgL",
        "colab_type": "code",
        "colab": {}
      },
      "source": [
        ""
      ],
      "execution_count": null,
      "outputs": []
    },
    {
      "cell_type": "code",
      "metadata": {
        "id": "_NXCki_RPGFR",
        "colab_type": "code",
        "colab": {}
      },
      "source": [
        ""
      ],
      "execution_count": null,
      "outputs": []
    }
  ]
}